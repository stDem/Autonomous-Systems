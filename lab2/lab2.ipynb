{
 "cells": [
  {
   "cell_type": "code",
   "execution_count": 1,
   "id": "92af3832",
   "metadata": {},
   "outputs": [
    {
     "name": "stdout",
     "output_type": "stream",
     "text": [
      "Found 12 .jpg images\n",
      "✅ Chessboard found in ./car/123_90_57f2a0b0-adce-11f0-b2a9-a46bb60726e6.jpg\n",
      "✅ Chessboard found in ./car/139_90_87a72952-adce-11f0-b2a9-a46bb60726e6.jpg\n",
      "✅ Chessboard found in ./car/114_80_91d9e658-adce-11f0-b2a9-a46bb60726e6 - Copy.jpg\n",
      "✅ Chessboard found in ./car/190_154_93c086ac-adce-11f0-b2a9-a46bb60726e6.jpg\n",
      "✅ Chessboard found in ./car/139_81_907e1df6-adce-11f0-b2a9-a46bb60726e6.jpg\n",
      "✅ Chessboard found in ./car/114_80_91d9e658-adce-11f0-b2a9-a46bb60726e6.jpg\n",
      "✅ Chessboard found in ./car/92_73_8a0bec96-adce-11f0-b2a9-a46bb60726e6.jpg\n",
      "✅ Chessboard found in ./car/147_111_9ed2d9a0-adce-11f0-b2a9-a46bb60726e6.jpg\n",
      "✅ Chessboard found in ./car/155_146_84894138-adce-11f0-b2a9-a46bb60726e6.jpg\n",
      "✅ Chessboard found in ./car/166_115_8b41c69e-adce-11f0-b2a9-a46bb60726e6.jpg\n",
      "✅ Chessboard found in ./car/139_90_87a72952-adce-11f0-b2a9-a46bb60726e6 - Copy.jpg\n"
     ]
    }
   ],
   "source": [
    "import numpy as np\n",
    "import cv2 as cv\n",
    "import glob\n",
    "import os\n",
    "\n",
    "# termination criteria\n",
    "criteria = (cv.TERM_CRITERIA_EPS + cv.TERM_CRITERIA_MAX_ITER, 30, 0.001)\n",
    "\n",
    "# prepare object points, like (0,0,0), (1,0,0), (2,0,0) ....,(6,5,0)\n",
    "objp = np.zeros((5*8,3), np.float32)\n",
    "objp[:,:2] = np.mgrid[0:8,0:5].T.reshape(-1,2)\n",
    "\n",
    "# Arrays to store object points and image points from all the images.\n",
    "objpoints = [] # 3d point in real world space\n",
    "imgpoints = [] # 2d points in image plane.\n",
    "\n",
    "images = glob.glob('./car/*.jpg')\n",
    "print(f\"Found {len(images)} .jpg images\")\n",
    "\n",
    "for fname in images:\n",
    "    img = cv.imread(fname)\n",
    "    gray = cv.cvtColor(img, cv.COLOR_BGR2GRAY)\n",
    "\n",
    "    # Find the chess board corners\n",
    "    ret, corners = cv.findChessboardCorners(gray, (8,5), None)\n",
    "\n",
    "    # If found, add object points, image points (after refining them)\n",
    "    if ret == True:\n",
    "        objpoints.append(objp)\n",
    "        print(f\"✅ Chessboard found in {fname}\")\n",
    "\n",
    "        corners2 = cv.cornerSubPix(gray,corners, (11,11), (-1,-1), criteria)\n",
    "        imgpoints.append(corners2)\n",
    "\n",
    "        # Draw and display the corners\n",
    "        cv.drawChessboardCorners(img, (8,5), corners2, ret)\n",
    "        cv.imshow('img', img)\n",
    "        cv.waitKey(500)\n",
    "\n",
    "cv.destroyAllWindows()"
   ]
  },
  {
   "cell_type": "code",
   "execution_count": 2,
   "id": "fba04668",
   "metadata": {},
   "outputs": [],
   "source": [
    "ret, mtx, dist, rvecs, tvecs = cv.calibrateCamera(objpoints, imgpoints, gray.shape[::-1], None, None)"
   ]
  },
  {
   "cell_type": "code",
   "execution_count": 3,
   "id": "0f5536b7",
   "metadata": {},
   "outputs": [],
   "source": [
    "input_folder = './car'\n",
    "output_folder = './output'\n",
    "os.makedirs(output_folder, exist_ok=True)"
   ]
  },
  {
   "cell_type": "code",
   "execution_count": 4,
   "id": "c4bf6485",
   "metadata": {},
   "outputs": [
    {
     "name": "stdout",
     "output_type": "stream",
     "text": [
      "Found 12 images in './car'\n"
     ]
    }
   ],
   "source": [
    "images = glob.glob(os.path.join(input_folder, '*.jpg'))\n",
    "print(f\"Found {len(images)} images in '{input_folder}'\")"
   ]
  },
  {
   "cell_type": "code",
   "execution_count": 5,
   "id": "6a4654ea",
   "metadata": {},
   "outputs": [
    {
     "name": "stdout",
     "output_type": "stream",
     "text": [
      "[1/12] ✅ Saved ./output/undistorted_80_122_4cf9989e-adce-11f0-b2a9-a46bb60726e6.jpg\n",
      "[2/12] ✅ Saved ./output/undistorted_123_90_57f2a0b0-adce-11f0-b2a9-a46bb60726e6.jpg\n",
      "[3/12] ✅ Saved ./output/undistorted_139_90_87a72952-adce-11f0-b2a9-a46bb60726e6.jpg\n",
      "[4/12] ✅ Saved ./output/undistorted_114_80_91d9e658-adce-11f0-b2a9-a46bb60726e6 - Copy.jpg\n",
      "[5/12] ✅ Saved ./output/undistorted_190_154_93c086ac-adce-11f0-b2a9-a46bb60726e6.jpg\n",
      "[6/12] ✅ Saved ./output/undistorted_139_81_907e1df6-adce-11f0-b2a9-a46bb60726e6.jpg\n",
      "[7/12] ✅ Saved ./output/undistorted_114_80_91d9e658-adce-11f0-b2a9-a46bb60726e6.jpg\n",
      "[8/12] ✅ Saved ./output/undistorted_92_73_8a0bec96-adce-11f0-b2a9-a46bb60726e6.jpg\n",
      "[9/12] ✅ Saved ./output/undistorted_147_111_9ed2d9a0-adce-11f0-b2a9-a46bb60726e6.jpg\n",
      "[10/12] ✅ Saved ./output/undistorted_155_146_84894138-adce-11f0-b2a9-a46bb60726e6.jpg\n",
      "[11/12] ✅ Saved ./output/undistorted_166_115_8b41c69e-adce-11f0-b2a9-a46bb60726e6.jpg\n",
      "[12/12] ✅ Saved ./output/undistorted_139_90_87a72952-adce-11f0-b2a9-a46bb60726e6 - Copy.jpg\n"
     ]
    }
   ],
   "source": [
    "# undistort\n",
    "for i, fname in enumerate(images, 1):\n",
    "    img = cv.imread(fname)\n",
    "    if img is None:\n",
    "        print(f\"❌ Could not read {fname}\")\n",
    "        continue\n",
    "\n",
    "    h, w = img.shape[:2]\n",
    "    newcameramtx, roi = cv.getOptimalNewCameraMatrix(mtx, dist, (w,h), 1, (w,h))\n",
    "\n",
    "    # Undistort\n",
    "    dst = cv.undistort(img, mtx, dist, None, newcameramtx)\n",
    "\n",
    "    # Optional crop\n",
    "    x, y, w, h = roi\n",
    "    dst = dst[y:y+h, x:x+w]\n",
    "\n",
    "    # Save output image\n",
    "    basename = os.path.basename(fname)\n",
    "    out_path = os.path.join(output_folder, f\"undistorted_{basename}\")\n",
    "    cv.imwrite(out_path, dst)\n",
    "    print(f\"[{i}/{len(images)}] ✅ Saved {out_path}\")\n"
   ]
  },
  {
   "cell_type": "code",
   "execution_count": 6,
   "id": "2eadedad",
   "metadata": {},
   "outputs": [
    {
     "name": "stdout",
     "output_type": "stream",
     "text": [
      "ret = 5.005190370213506\n",
      "Camera matrix (mtx):\n",
      " [[103.7775004    0.          97.94110885]\n",
      " [  0.         184.25810131  60.21977861]\n",
      " [  0.           0.           1.        ]]\n",
      "Distortion coefficients (dist):\n",
      " [[-0.53971683  0.13060682  0.11503791  0.00822575  0.0036368 ]]\n"
     ]
    }
   ],
   "source": [
    "print(\"ret =\", ret)\n",
    "print(\"Camera matrix (mtx):\\n\", mtx)\n",
    "print(\"Distortion coefficients (dist):\\n\", dist)\n"
   ]
  }
 ],
 "metadata": {
  "kernelspec": {
   "display_name": "base",
   "language": "python",
   "name": "python3"
  },
  "language_info": {
   "codemirror_mode": {
    "name": "ipython",
    "version": 3
   },
   "file_extension": ".py",
   "mimetype": "text/x-python",
   "name": "python",
   "nbconvert_exporter": "python",
   "pygments_lexer": "ipython3",
   "version": "3.12.7"
  }
 },
 "nbformat": 4,
 "nbformat_minor": 5
}
